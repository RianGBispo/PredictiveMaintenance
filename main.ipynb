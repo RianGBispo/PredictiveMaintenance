{
 "cells": [
  {
   "cell_type": "code",
   "execution_count": 8,
   "metadata": {},
   "outputs": [
    {
     "name": "stdout",
     "output_type": "stream",
     "text": [
      "Using matplotlib backend: TkAgg\n"
     ]
    }
   ],
   "source": [
    "import pandas as pd\n",
    "import numpy as np\n",
    "%matplotlib\n",
    "import matplotlib.pyplot as plt\n",
    "import seaborn as sn"
   ]
  },
  {
   "cell_type": "code",
   "execution_count": 9,
   "metadata": {},
   "outputs": [
    {
     "data": {
      "text/html": [
       "<div>\n",
       "<style scoped>\n",
       "    .dataframe tbody tr th:only-of-type {\n",
       "        vertical-align: middle;\n",
       "    }\n",
       "\n",
       "    .dataframe tbody tr th {\n",
       "        vertical-align: top;\n",
       "    }\n",
       "\n",
       "    .dataframe thead th {\n",
       "        text-align: right;\n",
       "    }\n",
       "</style>\n",
       "<table border=\"1\" class=\"dataframe\">\n",
       "  <thead>\n",
       "    <tr style=\"text-align: right;\">\n",
       "      <th></th>\n",
       "      <th>UDI</th>\n",
       "      <th>Product ID</th>\n",
       "      <th>Type</th>\n",
       "      <th>Air temperature [K]</th>\n",
       "      <th>Process temperature [K]</th>\n",
       "      <th>Rotational speed [rpm]</th>\n",
       "      <th>Torque [Nm]</th>\n",
       "      <th>Tool wear [min]</th>\n",
       "      <th>Target</th>\n",
       "      <th>Failure Type</th>\n",
       "    </tr>\n",
       "  </thead>\n",
       "  <tbody>\n",
       "    <tr>\n",
       "      <th>0</th>\n",
       "      <td>1</td>\n",
       "      <td>M14860</td>\n",
       "      <td>M</td>\n",
       "      <td>298.1</td>\n",
       "      <td>308.6</td>\n",
       "      <td>1551</td>\n",
       "      <td>42.8</td>\n",
       "      <td>0</td>\n",
       "      <td>0</td>\n",
       "      <td>No Failure</td>\n",
       "    </tr>\n",
       "    <tr>\n",
       "      <th>1</th>\n",
       "      <td>2</td>\n",
       "      <td>L47181</td>\n",
       "      <td>L</td>\n",
       "      <td>298.2</td>\n",
       "      <td>308.7</td>\n",
       "      <td>1408</td>\n",
       "      <td>46.3</td>\n",
       "      <td>3</td>\n",
       "      <td>0</td>\n",
       "      <td>No Failure</td>\n",
       "    </tr>\n",
       "    <tr>\n",
       "      <th>2</th>\n",
       "      <td>3</td>\n",
       "      <td>L47182</td>\n",
       "      <td>L</td>\n",
       "      <td>298.1</td>\n",
       "      <td>308.5</td>\n",
       "      <td>1498</td>\n",
       "      <td>49.4</td>\n",
       "      <td>5</td>\n",
       "      <td>0</td>\n",
       "      <td>No Failure</td>\n",
       "    </tr>\n",
       "    <tr>\n",
       "      <th>3</th>\n",
       "      <td>4</td>\n",
       "      <td>L47183</td>\n",
       "      <td>L</td>\n",
       "      <td>298.2</td>\n",
       "      <td>308.6</td>\n",
       "      <td>1433</td>\n",
       "      <td>39.5</td>\n",
       "      <td>7</td>\n",
       "      <td>0</td>\n",
       "      <td>No Failure</td>\n",
       "    </tr>\n",
       "    <tr>\n",
       "      <th>4</th>\n",
       "      <td>5</td>\n",
       "      <td>L47184</td>\n",
       "      <td>L</td>\n",
       "      <td>298.2</td>\n",
       "      <td>308.7</td>\n",
       "      <td>1408</td>\n",
       "      <td>40.0</td>\n",
       "      <td>9</td>\n",
       "      <td>0</td>\n",
       "      <td>No Failure</td>\n",
       "    </tr>\n",
       "    <tr>\n",
       "      <th>...</th>\n",
       "      <td>...</td>\n",
       "      <td>...</td>\n",
       "      <td>...</td>\n",
       "      <td>...</td>\n",
       "      <td>...</td>\n",
       "      <td>...</td>\n",
       "      <td>...</td>\n",
       "      <td>...</td>\n",
       "      <td>...</td>\n",
       "      <td>...</td>\n",
       "    </tr>\n",
       "    <tr>\n",
       "      <th>9995</th>\n",
       "      <td>9996</td>\n",
       "      <td>M24855</td>\n",
       "      <td>M</td>\n",
       "      <td>298.8</td>\n",
       "      <td>308.4</td>\n",
       "      <td>1604</td>\n",
       "      <td>29.5</td>\n",
       "      <td>14</td>\n",
       "      <td>0</td>\n",
       "      <td>No Failure</td>\n",
       "    </tr>\n",
       "    <tr>\n",
       "      <th>9996</th>\n",
       "      <td>9997</td>\n",
       "      <td>H39410</td>\n",
       "      <td>H</td>\n",
       "      <td>298.9</td>\n",
       "      <td>308.4</td>\n",
       "      <td>1632</td>\n",
       "      <td>31.8</td>\n",
       "      <td>17</td>\n",
       "      <td>0</td>\n",
       "      <td>No Failure</td>\n",
       "    </tr>\n",
       "    <tr>\n",
       "      <th>9997</th>\n",
       "      <td>9998</td>\n",
       "      <td>M24857</td>\n",
       "      <td>M</td>\n",
       "      <td>299.0</td>\n",
       "      <td>308.6</td>\n",
       "      <td>1645</td>\n",
       "      <td>33.4</td>\n",
       "      <td>22</td>\n",
       "      <td>0</td>\n",
       "      <td>No Failure</td>\n",
       "    </tr>\n",
       "    <tr>\n",
       "      <th>9998</th>\n",
       "      <td>9999</td>\n",
       "      <td>H39412</td>\n",
       "      <td>H</td>\n",
       "      <td>299.0</td>\n",
       "      <td>308.7</td>\n",
       "      <td>1408</td>\n",
       "      <td>48.5</td>\n",
       "      <td>25</td>\n",
       "      <td>0</td>\n",
       "      <td>No Failure</td>\n",
       "    </tr>\n",
       "    <tr>\n",
       "      <th>9999</th>\n",
       "      <td>10000</td>\n",
       "      <td>M24859</td>\n",
       "      <td>M</td>\n",
       "      <td>299.0</td>\n",
       "      <td>308.7</td>\n",
       "      <td>1500</td>\n",
       "      <td>40.2</td>\n",
       "      <td>30</td>\n",
       "      <td>0</td>\n",
       "      <td>No Failure</td>\n",
       "    </tr>\n",
       "  </tbody>\n",
       "</table>\n",
       "<p>10000 rows × 10 columns</p>\n",
       "</div>"
      ],
      "text/plain": [
       "        UDI Product ID Type  Air temperature [K]  Process temperature [K]  \\\n",
       "0         1     M14860    M                298.1                    308.6   \n",
       "1         2     L47181    L                298.2                    308.7   \n",
       "2         3     L47182    L                298.1                    308.5   \n",
       "3         4     L47183    L                298.2                    308.6   \n",
       "4         5     L47184    L                298.2                    308.7   \n",
       "...     ...        ...  ...                  ...                      ...   \n",
       "9995   9996     M24855    M                298.8                    308.4   \n",
       "9996   9997     H39410    H                298.9                    308.4   \n",
       "9997   9998     M24857    M                299.0                    308.6   \n",
       "9998   9999     H39412    H                299.0                    308.7   \n",
       "9999  10000     M24859    M                299.0                    308.7   \n",
       "\n",
       "      Rotational speed [rpm]  Torque [Nm]  Tool wear [min]  Target  \\\n",
       "0                       1551         42.8                0       0   \n",
       "1                       1408         46.3                3       0   \n",
       "2                       1498         49.4                5       0   \n",
       "3                       1433         39.5                7       0   \n",
       "4                       1408         40.0                9       0   \n",
       "...                      ...          ...              ...     ...   \n",
       "9995                    1604         29.5               14       0   \n",
       "9996                    1632         31.8               17       0   \n",
       "9997                    1645         33.4               22       0   \n",
       "9998                    1408         48.5               25       0   \n",
       "9999                    1500         40.2               30       0   \n",
       "\n",
       "     Failure Type  \n",
       "0      No Failure  \n",
       "1      No Failure  \n",
       "2      No Failure  \n",
       "3      No Failure  \n",
       "4      No Failure  \n",
       "...           ...  \n",
       "9995   No Failure  \n",
       "9996   No Failure  \n",
       "9997   No Failure  \n",
       "9998   No Failure  \n",
       "9999   No Failure  \n",
       "\n",
       "[10000 rows x 10 columns]"
      ]
     },
     "execution_count": 9,
     "metadata": {},
     "output_type": "execute_result"
    }
   ],
   "source": [
    "df = pd.read_csv(\"predictive_maintenance.csv\")\n",
    "df"
   ]
  },
  {
   "cell_type": "markdown",
   "metadata": {},
   "source": [
    "<h2> Um pouco sobre os dados </h2>\n",
    "\n",
    "1).***UDI*** (Identificador Único): Este é um identificador exclusivo para cada ponto de dados, o que sugere que cada ponto de dados corresponde a um evento ou observação específica em um processo de fabricação. Cada UID pode estar associado a uma operação ou evento específico da máquina.\n",
    "    \n",
    "2).***ProductID***: Este recurso representa as variantes de qualidade do produto (baixa, média ou alta) e inclui um número de série específico da variante. Isto pode indicar diferentes tipos de produtos ou variações produzidas pelas máquinas.\n",
    "    \n",
    "3).***Temperatura do ar [K]***: Este recurso representa a temperatura do ar em Kelvin, que pode ser um parâmetro relevante para o processo de fabricação, indicando potencialmente as condições ambientais ou configurações das máquinas.\n",
    "    \n",
    "4).***Temperatura do processo [K]***: Este recurso está relacionado à temperatura do processo em Kelvin, que é gerada usando um processo de passeio aleatório e normalizada. Pode ser um parâmetro crítico no processo de fabricação, afetando a qualidade do produto e a operação da máquina.\n",
    "    \n",
    "5).***Velocidade de rotação [rpm]***: Este recurso representa a velocidade de rotação das máquinas, que é calculada com base na potência e inclui ruído normalmente distribuído. É um parâmetro essencial para a compreensão do funcionamento da máquina.\n",
    "    \n",
    "6).***Torque [Nm]***: Os valores de torque são normalmente distribuídos em torno de 40 Nm com características específicas. Este recurso provavelmente indica o torque aplicado pelas máquinas durante o processo de fabricação.\n",
    "    \n",
    "7).***Desgaste da ferramenta [min]***: A característica de desgaste da ferramenta está associada às variantes de qualidade (H/M/L) e adiciona minutos de desgaste da ferramenta à ferramenta utilizada no processo. Sugere que as ferramentas sejam utilizadas em conjunto com as máquinas durante o processo de fabricação.\n",
    "    \n",
    "8). ***Rótulo 'falha da máquina'***: Este rótulo indica se a máquina falhou em um determinado ponto de dados para qualquer um dos modos de falha especificados. Isto sugere que o conjunto de dados inclui informações sobre falhas de máquinas, e o conjunto de dados pode incluir diferentes tipos de máquinas com diferentes modos de falha."
   ]
  },
  {
   "cell_type": "markdown",
   "metadata": {},
   "source": [
    "<h2>A falha da máquina consiste em cinco modos de falha independentes</h2>\n",
    "\n",
    "falha por desgaste da ferramenta (TWF): a ferramenta será substituída ou falha em um tempo de desgaste da ferramenta selecionado aleatoriamente entre 200 - 240 minutos (120 vezes em nosso conjunto de dados). Neste momento, a ferramenta foi substituída 69 vezes e falhou 51 vezes (atribuída aleatoriamente).\n",
    "\n",
    "falha de dissipação de calor (HDF): a dissipação de calor causa uma falha no processo, se a diferença entre a temperatura do ar e do processo for inferior a 8,6 K e a velocidade de rotação da ferramenta for inferior a 1380 rpm. Este é o caso de 115 pontos de dados.\n",
    "\n",
    "falha de energia (PWF): o produto do torque e da velocidade de rotação (em rad/s) é igual à potência necessária para o processo. Se esta potência estiver abaixo de 3.500 W ou acima de 9.000 W, o processo falha, o que ocorre 95 vezes em nosso conjunto de dados.\n",
    "\n",
    "falha por sobretensão (OSF): se o produto do desgaste da ferramenta e o torque exceder 11.000 minNm para a variante do produto L (12.000 M, 13.000 H), o processo falha devido à sobretensão. Isso é verdade para 98 pontos de dados.\n",
    "\n",
    "falhas aleatórias (RNF): cada processo tem 0,1% de chance de falhar, independentemente de seus parâmetros de processo. Este é o caso de apenas 5 pontos de dados, menos do que poderia ser esperado para 10.000 pontos de dados no nosso conjunto de dados.\n",
    "\n",
    "Se pelo menos um dos modos de falha acima for verdadeiro, o processo falha e o rótulo de 'falha da máquina' é definido como 1. Portanto, não é transparente para o método de aprendizado de máquina qual dos modos de falha causou a falha do processo"
   ]
  },
  {
   "cell_type": "code",
   "execution_count": 10,
   "metadata": {},
   "outputs": [
    {
     "name": "stdout",
     "output_type": "stream",
     "text": [
      "<class 'pandas.core.frame.DataFrame'>\n",
      "RangeIndex: 10000 entries, 0 to 9999\n",
      "Data columns (total 10 columns):\n",
      " #   Column                   Non-Null Count  Dtype  \n",
      "---  ------                   --------------  -----  \n",
      " 0   UDI                      10000 non-null  int64  \n",
      " 1   Product ID               10000 non-null  object \n",
      " 2   Type                     10000 non-null  object \n",
      " 3   Air temperature [K]      10000 non-null  float64\n",
      " 4   Process temperature [K]  10000 non-null  float64\n",
      " 5   Rotational speed [rpm]   10000 non-null  int64  \n",
      " 6   Torque [Nm]              10000 non-null  float64\n",
      " 7   Tool wear [min]          10000 non-null  int64  \n",
      " 8   Target                   10000 non-null  int64  \n",
      " 9   Failure Type             10000 non-null  object \n",
      "dtypes: float64(3), int64(4), object(3)\n",
      "memory usage: 781.4+ KB\n"
     ]
    }
   ],
   "source": [
    "df.info()"
   ]
  },
  {
   "cell_type": "code",
   "execution_count": 11,
   "metadata": {},
   "outputs": [
    {
     "data": {
      "text/plain": [
       "Target\n",
       "0    9661\n",
       "1     339\n",
       "Name: count, dtype: int64"
      ]
     },
     "execution_count": 11,
     "metadata": {},
     "output_type": "execute_result"
    }
   ],
   "source": [
    "df[\"Target\"].value_counts()"
   ]
  },
  {
   "cell_type": "code",
   "execution_count": 12,
   "metadata": {},
   "outputs": [
    {
     "data": {
      "text/plain": [
       "Failure Type\n",
       "No Failure                  9652\n",
       "Heat Dissipation Failure     112\n",
       "Power Failure                 95\n",
       "Overstrain Failure            78\n",
       "Tool Wear Failure             45\n",
       "Random Failures               18\n",
       "Name: count, dtype: int64"
      ]
     },
     "execution_count": 12,
     "metadata": {},
     "output_type": "execute_result"
    }
   ],
   "source": [
    "df[\"Failure Type\"].value_counts()"
   ]
  },
  {
   "cell_type": "code",
   "execution_count": 13,
   "metadata": {},
   "outputs": [
    {
     "data": {
      "text/html": [
       "<div>\n",
       "<style scoped>\n",
       "    .dataframe tbody tr th:only-of-type {\n",
       "        vertical-align: middle;\n",
       "    }\n",
       "\n",
       "    .dataframe tbody tr th {\n",
       "        vertical-align: top;\n",
       "    }\n",
       "\n",
       "    .dataframe thead th {\n",
       "        text-align: right;\n",
       "    }\n",
       "</style>\n",
       "<table border=\"1\" class=\"dataframe\">\n",
       "  <thead>\n",
       "    <tr style=\"text-align: right;\">\n",
       "      <th></th>\n",
       "      <th>UDI</th>\n",
       "      <th>Product ID</th>\n",
       "      <th>Type</th>\n",
       "      <th>Air temperature [K]</th>\n",
       "      <th>Process temperature [K]</th>\n",
       "      <th>Rotational speed [rpm]</th>\n",
       "      <th>Torque [Nm]</th>\n",
       "      <th>Tool wear [min]</th>\n",
       "      <th>Target</th>\n",
       "      <th>Failure Type</th>\n",
       "    </tr>\n",
       "  </thead>\n",
       "  <tbody>\n",
       "    <tr>\n",
       "      <th>1221</th>\n",
       "      <td>1222</td>\n",
       "      <td>M16081</td>\n",
       "      <td>M</td>\n",
       "      <td>297.0</td>\n",
       "      <td>308.3</td>\n",
       "      <td>1399</td>\n",
       "      <td>46.4</td>\n",
       "      <td>132</td>\n",
       "      <td>0</td>\n",
       "      <td>Random Failures</td>\n",
       "    </tr>\n",
       "    <tr>\n",
       "      <th>1302</th>\n",
       "      <td>1303</td>\n",
       "      <td>L48482</td>\n",
       "      <td>L</td>\n",
       "      <td>298.6</td>\n",
       "      <td>309.8</td>\n",
       "      <td>1505</td>\n",
       "      <td>45.7</td>\n",
       "      <td>144</td>\n",
       "      <td>0</td>\n",
       "      <td>Random Failures</td>\n",
       "    </tr>\n",
       "    <tr>\n",
       "      <th>1748</th>\n",
       "      <td>1749</td>\n",
       "      <td>H31162</td>\n",
       "      <td>H</td>\n",
       "      <td>298.4</td>\n",
       "      <td>307.7</td>\n",
       "      <td>1626</td>\n",
       "      <td>31.1</td>\n",
       "      <td>166</td>\n",
       "      <td>0</td>\n",
       "      <td>Random Failures</td>\n",
       "    </tr>\n",
       "    <tr>\n",
       "      <th>2072</th>\n",
       "      <td>2073</td>\n",
       "      <td>L49252</td>\n",
       "      <td>L</td>\n",
       "      <td>299.6</td>\n",
       "      <td>309.5</td>\n",
       "      <td>1570</td>\n",
       "      <td>35.5</td>\n",
       "      <td>189</td>\n",
       "      <td>0</td>\n",
       "      <td>Random Failures</td>\n",
       "    </tr>\n",
       "    <tr>\n",
       "      <th>2559</th>\n",
       "      <td>2560</td>\n",
       "      <td>L49739</td>\n",
       "      <td>L</td>\n",
       "      <td>299.3</td>\n",
       "      <td>309.0</td>\n",
       "      <td>1447</td>\n",
       "      <td>50.4</td>\n",
       "      <td>140</td>\n",
       "      <td>0</td>\n",
       "      <td>Random Failures</td>\n",
       "    </tr>\n",
       "    <tr>\n",
       "      <th>3065</th>\n",
       "      <td>3066</td>\n",
       "      <td>M17925</td>\n",
       "      <td>M</td>\n",
       "      <td>300.1</td>\n",
       "      <td>309.2</td>\n",
       "      <td>1687</td>\n",
       "      <td>27.7</td>\n",
       "      <td>95</td>\n",
       "      <td>0</td>\n",
       "      <td>Random Failures</td>\n",
       "    </tr>\n",
       "    <tr>\n",
       "      <th>3452</th>\n",
       "      <td>3453</td>\n",
       "      <td>H32866</td>\n",
       "      <td>H</td>\n",
       "      <td>301.6</td>\n",
       "      <td>310.5</td>\n",
       "      <td>1602</td>\n",
       "      <td>32.3</td>\n",
       "      <td>2</td>\n",
       "      <td>0</td>\n",
       "      <td>Random Failures</td>\n",
       "    </tr>\n",
       "    <tr>\n",
       "      <th>5471</th>\n",
       "      <td>5472</td>\n",
       "      <td>L52651</td>\n",
       "      <td>L</td>\n",
       "      <td>302.7</td>\n",
       "      <td>312.3</td>\n",
       "      <td>1346</td>\n",
       "      <td>61.2</td>\n",
       "      <td>170</td>\n",
       "      <td>0</td>\n",
       "      <td>Random Failures</td>\n",
       "    </tr>\n",
       "    <tr>\n",
       "      <th>5489</th>\n",
       "      <td>5490</td>\n",
       "      <td>L52669</td>\n",
       "      <td>L</td>\n",
       "      <td>302.6</td>\n",
       "      <td>312.1</td>\n",
       "      <td>1499</td>\n",
       "      <td>35.0</td>\n",
       "      <td>215</td>\n",
       "      <td>0</td>\n",
       "      <td>Random Failures</td>\n",
       "    </tr>\n",
       "    <tr>\n",
       "      <th>5495</th>\n",
       "      <td>5496</td>\n",
       "      <td>H34909</td>\n",
       "      <td>H</td>\n",
       "      <td>302.9</td>\n",
       "      <td>312.5</td>\n",
       "      <td>1357</td>\n",
       "      <td>55.0</td>\n",
       "      <td>12</td>\n",
       "      <td>0</td>\n",
       "      <td>Random Failures</td>\n",
       "    </tr>\n",
       "    <tr>\n",
       "      <th>5509</th>\n",
       "      <td>5510</td>\n",
       "      <td>L52689</td>\n",
       "      <td>L</td>\n",
       "      <td>302.8</td>\n",
       "      <td>312.2</td>\n",
       "      <td>1509</td>\n",
       "      <td>36.5</td>\n",
       "      <td>52</td>\n",
       "      <td>0</td>\n",
       "      <td>Random Failures</td>\n",
       "    </tr>\n",
       "    <tr>\n",
       "      <th>5553</th>\n",
       "      <td>5554</td>\n",
       "      <td>L52733</td>\n",
       "      <td>L</td>\n",
       "      <td>302.5</td>\n",
       "      <td>311.9</td>\n",
       "      <td>1306</td>\n",
       "      <td>59.7</td>\n",
       "      <td>172</td>\n",
       "      <td>0</td>\n",
       "      <td>Random Failures</td>\n",
       "    </tr>\n",
       "    <tr>\n",
       "      <th>5639</th>\n",
       "      <td>5640</td>\n",
       "      <td>L52819</td>\n",
       "      <td>L</td>\n",
       "      <td>302.6</td>\n",
       "      <td>312.1</td>\n",
       "      <td>1668</td>\n",
       "      <td>28.7</td>\n",
       "      <td>180</td>\n",
       "      <td>0</td>\n",
       "      <td>Random Failures</td>\n",
       "    </tr>\n",
       "    <tr>\n",
       "      <th>6091</th>\n",
       "      <td>6092</td>\n",
       "      <td>L53271</td>\n",
       "      <td>L</td>\n",
       "      <td>300.9</td>\n",
       "      <td>310.7</td>\n",
       "      <td>1412</td>\n",
       "      <td>57.5</td>\n",
       "      <td>16</td>\n",
       "      <td>0</td>\n",
       "      <td>Random Failures</td>\n",
       "    </tr>\n",
       "    <tr>\n",
       "      <th>6913</th>\n",
       "      <td>6914</td>\n",
       "      <td>L54093</td>\n",
       "      <td>L</td>\n",
       "      <td>300.8</td>\n",
       "      <td>311.2</td>\n",
       "      <td>1481</td>\n",
       "      <td>38.5</td>\n",
       "      <td>181</td>\n",
       "      <td>0</td>\n",
       "      <td>Random Failures</td>\n",
       "    </tr>\n",
       "    <tr>\n",
       "      <th>6960</th>\n",
       "      <td>6961</td>\n",
       "      <td>L54140</td>\n",
       "      <td>L</td>\n",
       "      <td>300.7</td>\n",
       "      <td>311.0</td>\n",
       "      <td>1413</td>\n",
       "      <td>52.0</td>\n",
       "      <td>91</td>\n",
       "      <td>0</td>\n",
       "      <td>Random Failures</td>\n",
       "    </tr>\n",
       "    <tr>\n",
       "      <th>7488</th>\n",
       "      <td>7489</td>\n",
       "      <td>L54668</td>\n",
       "      <td>L</td>\n",
       "      <td>300.3</td>\n",
       "      <td>311.7</td>\n",
       "      <td>1545</td>\n",
       "      <td>43.5</td>\n",
       "      <td>160</td>\n",
       "      <td>0</td>\n",
       "      <td>Random Failures</td>\n",
       "    </tr>\n",
       "    <tr>\n",
       "      <th>7868</th>\n",
       "      <td>7869</td>\n",
       "      <td>H37282</td>\n",
       "      <td>H</td>\n",
       "      <td>300.4</td>\n",
       "      <td>311.9</td>\n",
       "      <td>1438</td>\n",
       "      <td>46.7</td>\n",
       "      <td>41</td>\n",
       "      <td>0</td>\n",
       "      <td>Random Failures</td>\n",
       "    </tr>\n",
       "  </tbody>\n",
       "</table>\n",
       "</div>"
      ],
      "text/plain": [
       "       UDI Product ID Type  Air temperature [K]  Process temperature [K]  \\\n",
       "1221  1222     M16081    M                297.0                    308.3   \n",
       "1302  1303     L48482    L                298.6                    309.8   \n",
       "1748  1749     H31162    H                298.4                    307.7   \n",
       "2072  2073     L49252    L                299.6                    309.5   \n",
       "2559  2560     L49739    L                299.3                    309.0   \n",
       "3065  3066     M17925    M                300.1                    309.2   \n",
       "3452  3453     H32866    H                301.6                    310.5   \n",
       "5471  5472     L52651    L                302.7                    312.3   \n",
       "5489  5490     L52669    L                302.6                    312.1   \n",
       "5495  5496     H34909    H                302.9                    312.5   \n",
       "5509  5510     L52689    L                302.8                    312.2   \n",
       "5553  5554     L52733    L                302.5                    311.9   \n",
       "5639  5640     L52819    L                302.6                    312.1   \n",
       "6091  6092     L53271    L                300.9                    310.7   \n",
       "6913  6914     L54093    L                300.8                    311.2   \n",
       "6960  6961     L54140    L                300.7                    311.0   \n",
       "7488  7489     L54668    L                300.3                    311.7   \n",
       "7868  7869     H37282    H                300.4                    311.9   \n",
       "\n",
       "      Rotational speed [rpm]  Torque [Nm]  Tool wear [min]  Target  \\\n",
       "1221                    1399         46.4              132       0   \n",
       "1302                    1505         45.7              144       0   \n",
       "1748                    1626         31.1              166       0   \n",
       "2072                    1570         35.5              189       0   \n",
       "2559                    1447         50.4              140       0   \n",
       "3065                    1687         27.7               95       0   \n",
       "3452                    1602         32.3                2       0   \n",
       "5471                    1346         61.2              170       0   \n",
       "5489                    1499         35.0              215       0   \n",
       "5495                    1357         55.0               12       0   \n",
       "5509                    1509         36.5               52       0   \n",
       "5553                    1306         59.7              172       0   \n",
       "5639                    1668         28.7              180       0   \n",
       "6091                    1412         57.5               16       0   \n",
       "6913                    1481         38.5              181       0   \n",
       "6960                    1413         52.0               91       0   \n",
       "7488                    1545         43.5              160       0   \n",
       "7868                    1438         46.7               41       0   \n",
       "\n",
       "         Failure Type  \n",
       "1221  Random Failures  \n",
       "1302  Random Failures  \n",
       "1748  Random Failures  \n",
       "2072  Random Failures  \n",
       "2559  Random Failures  \n",
       "3065  Random Failures  \n",
       "3452  Random Failures  \n",
       "5471  Random Failures  \n",
       "5489  Random Failures  \n",
       "5495  Random Failures  \n",
       "5509  Random Failures  \n",
       "5553  Random Failures  \n",
       "5639  Random Failures  \n",
       "6091  Random Failures  \n",
       "6913  Random Failures  \n",
       "6960  Random Failures  \n",
       "7488  Random Failures  \n",
       "7868  Random Failures  "
      ]
     },
     "execution_count": 13,
     "metadata": {},
     "output_type": "execute_result"
    }
   ],
   "source": [
    "# Obtém instâncias onde 'Target' é 0, mas o tipo de falha não é \"Sem falha\"\n",
    "selected_instances = df[(df['Target'] == 0) & (df['Failure Type'] != 'No Failure')]\n",
    "selected_instances"
   ]
  },
  {
   "cell_type": "code",
   "execution_count": 14,
   "metadata": {},
   "outputs": [
    {
     "data": {
      "text/html": [
       "<div>\n",
       "<style scoped>\n",
       "    .dataframe tbody tr th:only-of-type {\n",
       "        vertical-align: middle;\n",
       "    }\n",
       "\n",
       "    .dataframe tbody tr th {\n",
       "        vertical-align: top;\n",
       "    }\n",
       "\n",
       "    .dataframe thead th {\n",
       "        text-align: right;\n",
       "    }\n",
       "</style>\n",
       "<table border=\"1\" class=\"dataframe\">\n",
       "  <thead>\n",
       "    <tr style=\"text-align: right;\">\n",
       "      <th></th>\n",
       "      <th>UDI</th>\n",
       "      <th>Product ID</th>\n",
       "      <th>Type</th>\n",
       "      <th>Air temperature [K]</th>\n",
       "      <th>Process temperature [K]</th>\n",
       "      <th>Rotational speed [rpm]</th>\n",
       "      <th>Torque [Nm]</th>\n",
       "      <th>Tool wear [min]</th>\n",
       "      <th>Target</th>\n",
       "      <th>Failure Type</th>\n",
       "    </tr>\n",
       "  </thead>\n",
       "  <tbody>\n",
       "    <tr>\n",
       "      <th>1437</th>\n",
       "      <td>1438</td>\n",
       "      <td>H30851</td>\n",
       "      <td>H</td>\n",
       "      <td>298.8</td>\n",
       "      <td>309.9</td>\n",
       "      <td>1439</td>\n",
       "      <td>45.2</td>\n",
       "      <td>40</td>\n",
       "      <td>1</td>\n",
       "      <td>No Failure</td>\n",
       "    </tr>\n",
       "    <tr>\n",
       "      <th>2749</th>\n",
       "      <td>2750</td>\n",
       "      <td>M17609</td>\n",
       "      <td>M</td>\n",
       "      <td>299.7</td>\n",
       "      <td>309.2</td>\n",
       "      <td>1685</td>\n",
       "      <td>28.9</td>\n",
       "      <td>179</td>\n",
       "      <td>1</td>\n",
       "      <td>No Failure</td>\n",
       "    </tr>\n",
       "    <tr>\n",
       "      <th>4044</th>\n",
       "      <td>4045</td>\n",
       "      <td>M18904</td>\n",
       "      <td>M</td>\n",
       "      <td>301.9</td>\n",
       "      <td>310.9</td>\n",
       "      <td>1419</td>\n",
       "      <td>47.7</td>\n",
       "      <td>20</td>\n",
       "      <td>1</td>\n",
       "      <td>No Failure</td>\n",
       "    </tr>\n",
       "    <tr>\n",
       "      <th>4684</th>\n",
       "      <td>4685</td>\n",
       "      <td>M19544</td>\n",
       "      <td>M</td>\n",
       "      <td>303.6</td>\n",
       "      <td>311.8</td>\n",
       "      <td>1421</td>\n",
       "      <td>44.8</td>\n",
       "      <td>101</td>\n",
       "      <td>1</td>\n",
       "      <td>No Failure</td>\n",
       "    </tr>\n",
       "    <tr>\n",
       "      <th>5536</th>\n",
       "      <td>5537</td>\n",
       "      <td>M20396</td>\n",
       "      <td>M</td>\n",
       "      <td>302.3</td>\n",
       "      <td>311.8</td>\n",
       "      <td>1363</td>\n",
       "      <td>54.0</td>\n",
       "      <td>119</td>\n",
       "      <td>1</td>\n",
       "      <td>No Failure</td>\n",
       "    </tr>\n",
       "    <tr>\n",
       "      <th>5941</th>\n",
       "      <td>5942</td>\n",
       "      <td>L53121</td>\n",
       "      <td>L</td>\n",
       "      <td>300.6</td>\n",
       "      <td>310.7</td>\n",
       "      <td>1438</td>\n",
       "      <td>48.5</td>\n",
       "      <td>78</td>\n",
       "      <td>1</td>\n",
       "      <td>No Failure</td>\n",
       "    </tr>\n",
       "    <tr>\n",
       "      <th>6478</th>\n",
       "      <td>6479</td>\n",
       "      <td>L53658</td>\n",
       "      <td>L</td>\n",
       "      <td>300.5</td>\n",
       "      <td>309.8</td>\n",
       "      <td>1663</td>\n",
       "      <td>29.1</td>\n",
       "      <td>145</td>\n",
       "      <td>1</td>\n",
       "      <td>No Failure</td>\n",
       "    </tr>\n",
       "    <tr>\n",
       "      <th>8506</th>\n",
       "      <td>8507</td>\n",
       "      <td>L55686</td>\n",
       "      <td>L</td>\n",
       "      <td>298.4</td>\n",
       "      <td>309.6</td>\n",
       "      <td>1710</td>\n",
       "      <td>27.3</td>\n",
       "      <td>163</td>\n",
       "      <td>1</td>\n",
       "      <td>No Failure</td>\n",
       "    </tr>\n",
       "    <tr>\n",
       "      <th>9015</th>\n",
       "      <td>9016</td>\n",
       "      <td>L56195</td>\n",
       "      <td>L</td>\n",
       "      <td>297.2</td>\n",
       "      <td>308.1</td>\n",
       "      <td>1431</td>\n",
       "      <td>49.7</td>\n",
       "      <td>210</td>\n",
       "      <td>1</td>\n",
       "      <td>No Failure</td>\n",
       "    </tr>\n",
       "  </tbody>\n",
       "</table>\n",
       "</div>"
      ],
      "text/plain": [
       "       UDI Product ID Type  Air temperature [K]  Process temperature [K]  \\\n",
       "1437  1438     H30851    H                298.8                    309.9   \n",
       "2749  2750     M17609    M                299.7                    309.2   \n",
       "4044  4045     M18904    M                301.9                    310.9   \n",
       "4684  4685     M19544    M                303.6                    311.8   \n",
       "5536  5537     M20396    M                302.3                    311.8   \n",
       "5941  5942     L53121    L                300.6                    310.7   \n",
       "6478  6479     L53658    L                300.5                    309.8   \n",
       "8506  8507     L55686    L                298.4                    309.6   \n",
       "9015  9016     L56195    L                297.2                    308.1   \n",
       "\n",
       "      Rotational speed [rpm]  Torque [Nm]  Tool wear [min]  Target  \\\n",
       "1437                    1439         45.2               40       1   \n",
       "2749                    1685         28.9              179       1   \n",
       "4044                    1419         47.7               20       1   \n",
       "4684                    1421         44.8              101       1   \n",
       "5536                    1363         54.0              119       1   \n",
       "5941                    1438         48.5               78       1   \n",
       "6478                    1663         29.1              145       1   \n",
       "8506                    1710         27.3              163       1   \n",
       "9015                    1431         49.7              210       1   \n",
       "\n",
       "     Failure Type  \n",
       "1437   No Failure  \n",
       "2749   No Failure  \n",
       "4044   No Failure  \n",
       "4684   No Failure  \n",
       "5536   No Failure  \n",
       "5941   No Failure  \n",
       "6478   No Failure  \n",
       "8506   No Failure  \n",
       "9015   No Failure  "
      ]
     },
     "execution_count": 14,
     "metadata": {},
     "output_type": "execute_result"
    }
   ],
   "source": [
    "# Obtém instâncias onde 'Target' é 1, mas o tipo de falha não é \"Sem falha\"\n",
    "selected_instances1 = df[(df['Target'] == 1) & (df['Failure Type'] == 'No Failure')]\n",
    "selected_instances1"
   ]
  },
  {
   "cell_type": "code",
   "execution_count": 15,
   "metadata": {},
   "outputs": [],
   "source": [
    "# Altere os valores em 'Target' de 0 para 1 onde 'Failure_Type' é 'random'\n",
    "df.loc[df['Failure Type'] == 'Random Failures', 'Target'] = 1\n",
    "df.loc[df['Failure Type'] == 'No Failure', 'Target'] = 0"
   ]
  },
  {
   "cell_type": "code",
   "execution_count": 16,
   "metadata": {},
   "outputs": [
    {
     "data": {
      "text/html": [
       "<div>\n",
       "<style scoped>\n",
       "    .dataframe tbody tr th:only-of-type {\n",
       "        vertical-align: middle;\n",
       "    }\n",
       "\n",
       "    .dataframe tbody tr th {\n",
       "        vertical-align: top;\n",
       "    }\n",
       "\n",
       "    .dataframe thead th {\n",
       "        text-align: right;\n",
       "    }\n",
       "</style>\n",
       "<table border=\"1\" class=\"dataframe\">\n",
       "  <thead>\n",
       "    <tr style=\"text-align: right;\">\n",
       "      <th></th>\n",
       "      <th>UDI</th>\n",
       "      <th>Product ID</th>\n",
       "      <th>Type</th>\n",
       "      <th>Air temperature [K]</th>\n",
       "      <th>Process temperature [K]</th>\n",
       "      <th>Rotational speed [rpm]</th>\n",
       "      <th>Torque [Nm]</th>\n",
       "      <th>Tool wear [min]</th>\n",
       "      <th>Target</th>\n",
       "      <th>Failure Type</th>\n",
       "    </tr>\n",
       "  </thead>\n",
       "  <tbody>\n",
       "  </tbody>\n",
       "</table>\n",
       "</div>"
      ],
      "text/plain": [
       "Empty DataFrame\n",
       "Columns: [UDI, Product ID, Type, Air temperature [K], Process temperature [K], Rotational speed [rpm], Torque [Nm], Tool wear [min], Target, Failure Type]\n",
       "Index: []"
      ]
     },
     "execution_count": 16,
     "metadata": {},
     "output_type": "execute_result"
    }
   ],
   "source": [
    "selected_instances1 = df[(df['Target'] == 1) & (df['Failure Type'] == 'No Failure')]\n",
    "selected_instances1"
   ]
  },
  {
   "cell_type": "code",
   "execution_count": 17,
   "metadata": {},
   "outputs": [
    {
     "data": {
      "text/plain": [
       "Target\n",
       "0    9652\n",
       "1     348\n",
       "Name: count, dtype: int64"
      ]
     },
     "execution_count": 17,
     "metadata": {},
     "output_type": "execute_result"
    }
   ],
   "source": [
    "df.Target.value_counts()"
   ]
  },
  {
   "cell_type": "code",
   "execution_count": 18,
   "metadata": {},
   "outputs": [
    {
     "data": {
      "text/plain": [
       "Failure Type\n",
       "No Failure                  9652\n",
       "Heat Dissipation Failure     112\n",
       "Power Failure                 95\n",
       "Overstrain Failure            78\n",
       "Tool Wear Failure             45\n",
       "Random Failures               18\n",
       "Name: count, dtype: int64"
      ]
     },
     "execution_count": 18,
     "metadata": {},
     "output_type": "execute_result"
    }
   ],
   "source": [
    "df[\"Failure Type\"].value_counts()"
   ]
  },
  {
   "cell_type": "code",
   "execution_count": 19,
   "metadata": {},
   "outputs": [
    {
     "data": {
      "text/plain": [
       "array([[<Axes: title={'center': 'UDI'}>,\n",
       "        <Axes: title={'center': 'Air temperature [K]'}>,\n",
       "        <Axes: title={'center': 'Process temperature [K]'}>],\n",
       "       [<Axes: title={'center': 'Rotational speed [rpm]'}>,\n",
       "        <Axes: title={'center': 'Torque [Nm]'}>,\n",
       "        <Axes: title={'center': 'Tool wear [min]'}>],\n",
       "       [<Axes: title={'center': 'Target'}>, <Axes: >, <Axes: >]],\n",
       "      dtype=object)"
      ]
     },
     "execution_count": 19,
     "metadata": {},
     "output_type": "execute_result"
    }
   ],
   "source": [
    "df.hist(figsize=(20,15))"
   ]
  },
  {
   "cell_type": "code",
   "execution_count": 20,
   "metadata": {},
   "outputs": [
    {
     "data": {
      "text/plain": [
       "<seaborn.axisgrid.PairGrid at 0x1762f588790>"
      ]
     },
     "execution_count": 20,
     "metadata": {},
     "output_type": "execute_result"
    }
   ],
   "source": [
    "sn.pairplot(df,hue=\"Target\",palette=\"husl\")"
   ]
  },
  {
   "cell_type": "code",
   "execution_count": 22,
   "metadata": {},
   "outputs": [],
   "source": [
    "##Importando nova amostra do pacote *sklearn.utils*. \n",
    "from sklearn.utils import resample\n",
    "\n",
    "# Separe o caso de 0 e 1\n",
    "no_failure_0 = df[df.Target==0]\n",
    "failure_1 = df[df.Target==1]\n",
    "\n",
    "##Amplie os casos de failuer(1).\n",
    "df_minority_upsampled = resample(failure_1,replace=True,n_samples=2000)\n",
    "\n",
    "# Combine a classe majoritária com a classe minoritária ampliada\n",
    "new_df = pd.concat([no_failure_0, df_minority_upsampled])"
   ]
  },
  {
   "cell_type": "code",
   "execution_count": 23,
   "metadata": {},
   "outputs": [],
   "source": [
    "from sklearn.utils import shuffle\n",
    "shuffle_df = shuffle(new_df)"
   ]
  },
  {
   "cell_type": "code",
   "execution_count": 24,
   "metadata": {},
   "outputs": [
    {
     "data": {
      "text/html": [
       "<div>\n",
       "<style scoped>\n",
       "    .dataframe tbody tr th:only-of-type {\n",
       "        vertical-align: middle;\n",
       "    }\n",
       "\n",
       "    .dataframe tbody tr th {\n",
       "        vertical-align: top;\n",
       "    }\n",
       "\n",
       "    .dataframe thead th {\n",
       "        text-align: right;\n",
       "    }\n",
       "</style>\n",
       "<table border=\"1\" class=\"dataframe\">\n",
       "  <thead>\n",
       "    <tr style=\"text-align: right;\">\n",
       "      <th></th>\n",
       "      <th>UDI</th>\n",
       "      <th>Product ID</th>\n",
       "      <th>Type</th>\n",
       "      <th>Air temperature [K]</th>\n",
       "      <th>Process temperature [K]</th>\n",
       "      <th>Rotational speed [rpm]</th>\n",
       "      <th>Torque [Nm]</th>\n",
       "      <th>Tool wear [min]</th>\n",
       "      <th>Target</th>\n",
       "      <th>Failure Type</th>\n",
       "    </tr>\n",
       "  </thead>\n",
       "  <tbody>\n",
       "    <tr>\n",
       "      <th>1793</th>\n",
       "      <td>1794</td>\n",
       "      <td>L48973</td>\n",
       "      <td>L</td>\n",
       "      <td>298.1</td>\n",
       "      <td>307.8</td>\n",
       "      <td>1761</td>\n",
       "      <td>28.2</td>\n",
       "      <td>76</td>\n",
       "      <td>0</td>\n",
       "      <td>No Failure</td>\n",
       "    </tr>\n",
       "    <tr>\n",
       "      <th>8289</th>\n",
       "      <td>8290</td>\n",
       "      <td>L55469</td>\n",
       "      <td>L</td>\n",
       "      <td>298.9</td>\n",
       "      <td>310.6</td>\n",
       "      <td>1406</td>\n",
       "      <td>43.8</td>\n",
       "      <td>12</td>\n",
       "      <td>0</td>\n",
       "      <td>No Failure</td>\n",
       "    </tr>\n",
       "    <tr>\n",
       "      <th>5267</th>\n",
       "      <td>5268</td>\n",
       "      <td>M20127</td>\n",
       "      <td>M</td>\n",
       "      <td>303.5</td>\n",
       "      <td>312.9</td>\n",
       "      <td>1438</td>\n",
       "      <td>42.8</td>\n",
       "      <td>106</td>\n",
       "      <td>0</td>\n",
       "      <td>No Failure</td>\n",
       "    </tr>\n",
       "    <tr>\n",
       "      <th>2642</th>\n",
       "      <td>2643</td>\n",
       "      <td>L49822</td>\n",
       "      <td>L</td>\n",
       "      <td>299.8</td>\n",
       "      <td>309.5</td>\n",
       "      <td>1542</td>\n",
       "      <td>40.3</td>\n",
       "      <td>141</td>\n",
       "      <td>0</td>\n",
       "      <td>No Failure</td>\n",
       "    </tr>\n",
       "    <tr>\n",
       "      <th>9802</th>\n",
       "      <td>9803</td>\n",
       "      <td>H39216</td>\n",
       "      <td>H</td>\n",
       "      <td>298.4</td>\n",
       "      <td>309.3</td>\n",
       "      <td>1984</td>\n",
       "      <td>19.2</td>\n",
       "      <td>132</td>\n",
       "      <td>0</td>\n",
       "      <td>No Failure</td>\n",
       "    </tr>\n",
       "    <tr>\n",
       "      <th>...</th>\n",
       "      <td>...</td>\n",
       "      <td>...</td>\n",
       "      <td>...</td>\n",
       "      <td>...</td>\n",
       "      <td>...</td>\n",
       "      <td>...</td>\n",
       "      <td>...</td>\n",
       "      <td>...</td>\n",
       "      <td>...</td>\n",
       "      <td>...</td>\n",
       "    </tr>\n",
       "    <tr>\n",
       "      <th>5275</th>\n",
       "      <td>5276</td>\n",
       "      <td>L52455</td>\n",
       "      <td>L</td>\n",
       "      <td>303.7</td>\n",
       "      <td>313.1</td>\n",
       "      <td>1423</td>\n",
       "      <td>41.2</td>\n",
       "      <td>124</td>\n",
       "      <td>0</td>\n",
       "      <td>No Failure</td>\n",
       "    </tr>\n",
       "    <tr>\n",
       "      <th>4618</th>\n",
       "      <td>4619</td>\n",
       "      <td>M19478</td>\n",
       "      <td>M</td>\n",
       "      <td>303.0</td>\n",
       "      <td>311.3</td>\n",
       "      <td>1335</td>\n",
       "      <td>53.6</td>\n",
       "      <td>164</td>\n",
       "      <td>1</td>\n",
       "      <td>Heat Dissipation Failure</td>\n",
       "    </tr>\n",
       "    <tr>\n",
       "      <th>2364</th>\n",
       "      <td>2365</td>\n",
       "      <td>L49544</td>\n",
       "      <td>L</td>\n",
       "      <td>299.2</td>\n",
       "      <td>308.5</td>\n",
       "      <td>1366</td>\n",
       "      <td>49.7</td>\n",
       "      <td>74</td>\n",
       "      <td>0</td>\n",
       "      <td>No Failure</td>\n",
       "    </tr>\n",
       "    <tr>\n",
       "      <th>2332</th>\n",
       "      <td>2333</td>\n",
       "      <td>L49512</td>\n",
       "      <td>L</td>\n",
       "      <td>299.2</td>\n",
       "      <td>308.5</td>\n",
       "      <td>1378</td>\n",
       "      <td>50.4</td>\n",
       "      <td>220</td>\n",
       "      <td>1</td>\n",
       "      <td>Overstrain Failure</td>\n",
       "    </tr>\n",
       "    <tr>\n",
       "      <th>2732</th>\n",
       "      <td>2733</td>\n",
       "      <td>L49912</td>\n",
       "      <td>L</td>\n",
       "      <td>299.7</td>\n",
       "      <td>309.2</td>\n",
       "      <td>1346</td>\n",
       "      <td>57.4</td>\n",
       "      <td>138</td>\n",
       "      <td>0</td>\n",
       "      <td>No Failure</td>\n",
       "    </tr>\n",
       "  </tbody>\n",
       "</table>\n",
       "<p>11652 rows × 10 columns</p>\n",
       "</div>"
      ],
      "text/plain": [
       "       UDI Product ID Type  Air temperature [K]  Process temperature [K]  \\\n",
       "1793  1794     L48973    L                298.1                    307.8   \n",
       "8289  8290     L55469    L                298.9                    310.6   \n",
       "5267  5268     M20127    M                303.5                    312.9   \n",
       "2642  2643     L49822    L                299.8                    309.5   \n",
       "9802  9803     H39216    H                298.4                    309.3   \n",
       "...    ...        ...  ...                  ...                      ...   \n",
       "5275  5276     L52455    L                303.7                    313.1   \n",
       "4618  4619     M19478    M                303.0                    311.3   \n",
       "2364  2365     L49544    L                299.2                    308.5   \n",
       "2332  2333     L49512    L                299.2                    308.5   \n",
       "2732  2733     L49912    L                299.7                    309.2   \n",
       "\n",
       "      Rotational speed [rpm]  Torque [Nm]  Tool wear [min]  Target  \\\n",
       "1793                    1761         28.2               76       0   \n",
       "8289                    1406         43.8               12       0   \n",
       "5267                    1438         42.8              106       0   \n",
       "2642                    1542         40.3              141       0   \n",
       "9802                    1984         19.2              132       0   \n",
       "...                      ...          ...              ...     ...   \n",
       "5275                    1423         41.2              124       0   \n",
       "4618                    1335         53.6              164       1   \n",
       "2364                    1366         49.7               74       0   \n",
       "2332                    1378         50.4              220       1   \n",
       "2732                    1346         57.4              138       0   \n",
       "\n",
       "                  Failure Type  \n",
       "1793                No Failure  \n",
       "8289                No Failure  \n",
       "5267                No Failure  \n",
       "2642                No Failure  \n",
       "9802                No Failure  \n",
       "...                        ...  \n",
       "5275                No Failure  \n",
       "4618  Heat Dissipation Failure  \n",
       "2364                No Failure  \n",
       "2332        Overstrain Failure  \n",
       "2732                No Failure  \n",
       "\n",
       "[11652 rows x 10 columns]"
      ]
     },
     "execution_count": 24,
     "metadata": {},
     "output_type": "execute_result"
    }
   ],
   "source": [
    "shuffle_df"
   ]
  },
  {
   "cell_type": "code",
   "execution_count": 25,
   "metadata": {},
   "outputs": [
    {
     "data": {
      "text/plain": [
       "Failure Type\n",
       "No Failure                  9652\n",
       "Heat Dissipation Failure     653\n",
       "Power Failure                508\n",
       "Overstrain Failure           444\n",
       "Tool Wear Failure            275\n",
       "Random Failures              120\n",
       "Name: count, dtype: int64"
      ]
     },
     "execution_count": 25,
     "metadata": {},
     "output_type": "execute_result"
    }
   ],
   "source": [
    "shuffle_df['Failure Type'].value_counts()"
   ]
  },
  {
   "cell_type": "code",
   "execution_count": 26,
   "metadata": {},
   "outputs": [
    {
     "data": {
      "text/plain": [
       "Type\n",
       "L    7173\n",
       "M    3356\n",
       "H    1123\n",
       "Name: count, dtype: int64"
      ]
     },
     "execution_count": 26,
     "metadata": {},
     "output_type": "execute_result"
    }
   ],
   "source": [
    "shuffle_df.Type.value_counts()"
   ]
  },
  {
   "cell_type": "code",
   "execution_count": 27,
   "metadata": {},
   "outputs": [
    {
     "data": {
      "text/plain": [
       "<Axes: xlabel='Rotational speed [rpm]', ylabel='Torque [Nm]'>"
      ]
     },
     "execution_count": 27,
     "metadata": {},
     "output_type": "execute_result"
    }
   ],
   "source": [
    "sn.scatterplot(data=shuffle_df, x=shuffle_df['Rotational speed [rpm]'],y=shuffle_df['Torque [Nm]'],hue=\"Failure Type\",palette=\"tab10\")"
   ]
  },
  {
   "cell_type": "code",
   "execution_count": 28,
   "metadata": {},
   "outputs": [
    {
     "data": {
      "text/plain": [
       "<Axes: xlabel='Rotational speed [rpm]', ylabel='Torque [Nm]'>"
      ]
     },
     "execution_count": 28,
     "metadata": {},
     "output_type": "execute_result"
    }
   ],
   "source": [
    "subset_df = shuffle_df[shuffle_df[\"Target\"] == 1].reset_index(drop=True)\n",
    "sn.scatterplot(data=subset_df, x=subset_df['Rotational speed [rpm]'],y=subset_df['Torque [Nm]'],hue=\"Failure Type\",palette=\"tab10\")"
   ]
  },
  {
   "cell_type": "code",
   "execution_count": 29,
   "metadata": {},
   "outputs": [
    {
     "name": "stderr",
     "output_type": "stream",
     "text": [
      "C:\\Users\\rianb\\AppData\\Local\\Temp\\ipykernel_9160\\1621668466.py:1: UserWarning: Ignoring `palette` because no `hue` variable has been assigned.\n",
      "  sn.scatterplot(data=subset_df, x=subset_df['Tool wear [min]'],y=subset_df['Failure Type'],palette=\"tab10\")\n"
     ]
    },
    {
     "data": {
      "text/plain": [
       "<Axes: xlabel='Tool wear [min]', ylabel='Failure Type'>"
      ]
     },
     "execution_count": 29,
     "metadata": {},
     "output_type": "execute_result"
    }
   ],
   "source": [
    "sn.scatterplot(data=subset_df, x=subset_df['Tool wear [min]'],y=subset_df['Failure Type'],palette=\"tab10\")"
   ]
  },
  {
   "cell_type": "code",
   "execution_count": 30,
   "metadata": {},
   "outputs": [
    {
     "name": "stderr",
     "output_type": "stream",
     "text": [
      "C:\\Users\\rianb\\AppData\\Local\\Temp\\ipykernel_9160\\988469026.py:1: UserWarning: Ignoring `palette` because no `hue` variable has been assigned.\n",
      "  sn.scatterplot(data=subset_df, x=subset_df['Process temperature [K]'],y=subset_df['Failure Type'],palette=\"tab10\")\n"
     ]
    },
    {
     "data": {
      "text/plain": [
       "<Axes: xlabel='Process temperature [K]', ylabel='Failure Type'>"
      ]
     },
     "execution_count": 30,
     "metadata": {},
     "output_type": "execute_result"
    }
   ],
   "source": [
    "sn.scatterplot(data=subset_df, x=subset_df['Process temperature [K]'],y=subset_df['Failure Type'],palette=\"tab10\")"
   ]
  },
  {
   "cell_type": "code",
   "execution_count": 31,
   "metadata": {},
   "outputs": [],
   "source": [
    "# Dropei o ID do produto aqui porque, em minha análise, o ID do produto não tem tanta importância\n",
    "# Tambem há a possibilidade de ter dados com muita cardinalidade, então esqueçamos\n",
    "\n",
    "encodeded_df = pd.get_dummies(shuffle_df.drop([\"Product ID\",'Target', 'Failure Type'],axis=1),drop_first=True)\n"
   ]
  },
  {
   "cell_type": "code",
   "execution_count": 32,
   "metadata": {},
   "outputs": [],
   "source": [
    "label_1=shuffle_df['Target']\n",
    "label_2 = shuffle_df[\"Failure Type\"]"
   ]
  },
  {
   "cell_type": "code",
   "execution_count": 33,
   "metadata": {},
   "outputs": [],
   "source": [
    "from sklearn.preprocessing import StandardScaler\n",
    "scaler = StandardScaler()\n",
    "scaled = scaler.fit_transform(encodeded_df)"
   ]
  },
  {
   "cell_type": "code",
   "execution_count": 34,
   "metadata": {},
   "outputs": [],
   "source": [
    "from sklearn.model_selection import train_test_split\n",
    "train_X, test_X, train_y, test_y = train_test_split(scaled,label_1,test_size=0.2, random_state=42)"
   ]
  },
  {
   "cell_type": "markdown",
   "metadata": {},
   "source": [
    "<h2>Construção de Modelo Logístico</h2>"
   ]
  },
  {
   "cell_type": "code",
   "execution_count": 35,
   "metadata": {},
   "outputs": [
    {
     "data": {
      "text/html": [
       "<style>#sk-container-id-1 {color: black;}#sk-container-id-1 pre{padding: 0;}#sk-container-id-1 div.sk-toggleable {background-color: white;}#sk-container-id-1 label.sk-toggleable__label {cursor: pointer;display: block;width: 100%;margin-bottom: 0;padding: 0.3em;box-sizing: border-box;text-align: center;}#sk-container-id-1 label.sk-toggleable__label-arrow:before {content: \"▸\";float: left;margin-right: 0.25em;color: #696969;}#sk-container-id-1 label.sk-toggleable__label-arrow:hover:before {color: black;}#sk-container-id-1 div.sk-estimator:hover label.sk-toggleable__label-arrow:before {color: black;}#sk-container-id-1 div.sk-toggleable__content {max-height: 0;max-width: 0;overflow: hidden;text-align: left;background-color: #f0f8ff;}#sk-container-id-1 div.sk-toggleable__content pre {margin: 0.2em;color: black;border-radius: 0.25em;background-color: #f0f8ff;}#sk-container-id-1 input.sk-toggleable__control:checked~div.sk-toggleable__content {max-height: 200px;max-width: 100%;overflow: auto;}#sk-container-id-1 input.sk-toggleable__control:checked~label.sk-toggleable__label-arrow:before {content: \"▾\";}#sk-container-id-1 div.sk-estimator input.sk-toggleable__control:checked~label.sk-toggleable__label {background-color: #d4ebff;}#sk-container-id-1 div.sk-label input.sk-toggleable__control:checked~label.sk-toggleable__label {background-color: #d4ebff;}#sk-container-id-1 input.sk-hidden--visually {border: 0;clip: rect(1px 1px 1px 1px);clip: rect(1px, 1px, 1px, 1px);height: 1px;margin: -1px;overflow: hidden;padding: 0;position: absolute;width: 1px;}#sk-container-id-1 div.sk-estimator {font-family: monospace;background-color: #f0f8ff;border: 1px dotted black;border-radius: 0.25em;box-sizing: border-box;margin-bottom: 0.5em;}#sk-container-id-1 div.sk-estimator:hover {background-color: #d4ebff;}#sk-container-id-1 div.sk-parallel-item::after {content: \"\";width: 100%;border-bottom: 1px solid gray;flex-grow: 1;}#sk-container-id-1 div.sk-label:hover label.sk-toggleable__label {background-color: #d4ebff;}#sk-container-id-1 div.sk-serial::before {content: \"\";position: absolute;border-left: 1px solid gray;box-sizing: border-box;top: 0;bottom: 0;left: 50%;z-index: 0;}#sk-container-id-1 div.sk-serial {display: flex;flex-direction: column;align-items: center;background-color: white;padding-right: 0.2em;padding-left: 0.2em;position: relative;}#sk-container-id-1 div.sk-item {position: relative;z-index: 1;}#sk-container-id-1 div.sk-parallel {display: flex;align-items: stretch;justify-content: center;background-color: white;position: relative;}#sk-container-id-1 div.sk-item::before, #sk-container-id-1 div.sk-parallel-item::before {content: \"\";position: absolute;border-left: 1px solid gray;box-sizing: border-box;top: 0;bottom: 0;left: 50%;z-index: -1;}#sk-container-id-1 div.sk-parallel-item {display: flex;flex-direction: column;z-index: 1;position: relative;background-color: white;}#sk-container-id-1 div.sk-parallel-item:first-child::after {align-self: flex-end;width: 50%;}#sk-container-id-1 div.sk-parallel-item:last-child::after {align-self: flex-start;width: 50%;}#sk-container-id-1 div.sk-parallel-item:only-child::after {width: 0;}#sk-container-id-1 div.sk-dashed-wrapped {border: 1px dashed gray;margin: 0 0.4em 0.5em 0.4em;box-sizing: border-box;padding-bottom: 0.4em;background-color: white;}#sk-container-id-1 div.sk-label label {font-family: monospace;font-weight: bold;display: inline-block;line-height: 1.2em;}#sk-container-id-1 div.sk-label-container {text-align: center;}#sk-container-id-1 div.sk-container {/* jupyter's `normalize.less` sets `[hidden] { display: none; }` but bootstrap.min.css set `[hidden] { display: none !important; }` so we also need the `!important` here to be able to override the default hidden behavior on the sphinx rendered scikit-learn.org. See: https://github.com/scikit-learn/scikit-learn/issues/21755 */display: inline-block !important;position: relative;}#sk-container-id-1 div.sk-text-repr-fallback {display: none;}</style><div id=\"sk-container-id-1\" class=\"sk-top-container\"><div class=\"sk-text-repr-fallback\"><pre>LogisticRegression()</pre><b>In a Jupyter environment, please rerun this cell to show the HTML representation or trust the notebook. <br />On GitHub, the HTML representation is unable to render, please try loading this page with nbviewer.org.</b></div><div class=\"sk-container\" hidden><div class=\"sk-item\"><div class=\"sk-estimator sk-toggleable\"><input class=\"sk-toggleable__control sk-hidden--visually\" id=\"sk-estimator-id-1\" type=\"checkbox\" checked><label for=\"sk-estimator-id-1\" class=\"sk-toggleable__label sk-toggleable__label-arrow\">LogisticRegression</label><div class=\"sk-toggleable__content\"><pre>LogisticRegression()</pre></div></div></div></div></div>"
      ],
      "text/plain": [
       "LogisticRegression()"
      ]
     },
     "execution_count": 35,
     "metadata": {},
     "output_type": "execute_result"
    }
   ],
   "source": [
    "from sklearn.linear_model import LogisticRegression\n",
    "## inicializando o modelo\n",
    "logit = LogisticRegression()\n",
    "## Ajustando o modelo com valores X e Y do conjunto de dados\n",
    "logit.fit(train_X , train_y)"
   ]
  },
  {
   "cell_type": "code",
   "execution_count": 37,
   "metadata": {},
   "outputs": [],
   "source": [
    "from sklearn.model_selection import cross_val_predict\n",
    "y_trained_pred = cross_val_predict(logit,train_X,train_y)"
   ]
  },
  {
   "cell_type": "code",
   "execution_count": 38,
   "metadata": {},
   "outputs": [],
   "source": [
    "y_trained_prob = cross_val_predict(logit,train_X,train_y,method=\"predict_proba\")"
   ]
  },
  {
   "cell_type": "code",
   "execution_count": 39,
   "metadata": {},
   "outputs": [],
   "source": [
    "## Importando as metricas\n",
    "from sklearn import metrics\n",
    "## Definindo a matriz para desenhar a matriz de confusão do real e\n",
    "## rótulos de classe previstos\n",
    "def draw_cm( actual, predicted ):\n",
    "    # Invocando confusão_matrix do pacote métrico. O Matrix\n",
    "    # será orientado como [1,0], ou seja, as classes com rótulo 1 serão\n",
    "    # representado pela primeira linha e 0 como segunda linha\n",
    "    cm= metrics.confusion_matrix(actual,predicted)\n",
    "    # A confusão será plotada como mapa de calor para melhor visualização\n",
    "    # Os rótulos são configurados para melhor interpretação da trama\n",
    "    sn.heatmap(cm, annot=True, fmt='.2f',xticklabels = ['No Failure', 'Failure'], yticklabels = ['No Failure', 'Failure'] )\n",
    "    plt.ylabel('True label') \n",
    "    plt.xlabel('Predicted label') \n",
    "    plt.show()"
   ]
  },
  {
   "cell_type": "code",
   "execution_count": 40,
   "metadata": {},
   "outputs": [],
   "source": [
    "draw_cm(train_y , y_trained_pred)"
   ]
  },
  {
   "cell_type": "code",
   "execution_count": 41,
   "metadata": {},
   "outputs": [
    {
     "name": "stdout",
     "output_type": "stream",
     "text": [
      "              precision    recall  f1-score   support\n",
      "\n",
      "           0       0.91      0.97      0.94      7717\n",
      "           1       0.77      0.55      0.64      1604\n",
      "\n",
      "    accuracy                           0.89      9321\n",
      "   macro avg       0.84      0.76      0.79      9321\n",
      "weighted avg       0.89      0.89      0.89      9321\n",
      "\n"
     ]
    }
   ],
   "source": [
    "print(metrics.classification_report(train_y , y_trained_pred))"
   ]
  },
  {
   "cell_type": "code",
   "execution_count": 42,
   "metadata": {},
   "outputs": [],
   "source": [
    "y_trained_score = y_trained_prob[:,1]\n",
    "fpr,tpr,threshold = metrics.roc_curve(train_y,y_trained_score)"
   ]
  },
  {
   "cell_type": "code",
   "execution_count": 43,
   "metadata": {},
   "outputs": [],
   "source": [
    "def plot_roc_curve(fpr,tpr):\n",
    "    plt.plot(fpr,tpr,linewidth=2)\n",
    "    plt.plot([0,1],[0,1],\"k--\")\n",
    "    plt.xlabel('False Positive Rate or [1 - True Negative Rate]')\n",
    "    plt.ylabel('True Positive Rate')\n",
    "    plt.title('Receiver operating characteristic example')\n",
    "    plt.grid(True)\n",
    "    plt.figure(figsize=(8, 6))\n",
    "    plt.show()"
   ]
  },
  {
   "cell_type": "code",
   "execution_count": 45,
   "metadata": {},
   "outputs": [],
   "source": [
    "plot_roc_curve(fpr,tpr)"
   ]
  },
  {
   "cell_type": "code",
   "execution_count": 46,
   "metadata": {},
   "outputs": [
    {
     "data": {
      "text/plain": [
       "0.8874980328109363"
      ]
     },
     "execution_count": 46,
     "metadata": {},
     "output_type": "execute_result"
    }
   ],
   "source": [
    "metrics.roc_auc_score(train_y,y_trained_score)"
   ]
  },
  {
   "cell_type": "markdown",
   "metadata": {},
   "source": [
    "<h2>Construindo Modelo de Árvore de Decisão</h2>"
   ]
  },
  {
   "cell_type": "code",
   "execution_count": 47,
   "metadata": {},
   "outputs": [
    {
     "data": {
      "text/html": [
       "<style>#sk-container-id-2 {color: black;}#sk-container-id-2 pre{padding: 0;}#sk-container-id-2 div.sk-toggleable {background-color: white;}#sk-container-id-2 label.sk-toggleable__label {cursor: pointer;display: block;width: 100%;margin-bottom: 0;padding: 0.3em;box-sizing: border-box;text-align: center;}#sk-container-id-2 label.sk-toggleable__label-arrow:before {content: \"▸\";float: left;margin-right: 0.25em;color: #696969;}#sk-container-id-2 label.sk-toggleable__label-arrow:hover:before {color: black;}#sk-container-id-2 div.sk-estimator:hover label.sk-toggleable__label-arrow:before {color: black;}#sk-container-id-2 div.sk-toggleable__content {max-height: 0;max-width: 0;overflow: hidden;text-align: left;background-color: #f0f8ff;}#sk-container-id-2 div.sk-toggleable__content pre {margin: 0.2em;color: black;border-radius: 0.25em;background-color: #f0f8ff;}#sk-container-id-2 input.sk-toggleable__control:checked~div.sk-toggleable__content {max-height: 200px;max-width: 100%;overflow: auto;}#sk-container-id-2 input.sk-toggleable__control:checked~label.sk-toggleable__label-arrow:before {content: \"▾\";}#sk-container-id-2 div.sk-estimator input.sk-toggleable__control:checked~label.sk-toggleable__label {background-color: #d4ebff;}#sk-container-id-2 div.sk-label input.sk-toggleable__control:checked~label.sk-toggleable__label {background-color: #d4ebff;}#sk-container-id-2 input.sk-hidden--visually {border: 0;clip: rect(1px 1px 1px 1px);clip: rect(1px, 1px, 1px, 1px);height: 1px;margin: -1px;overflow: hidden;padding: 0;position: absolute;width: 1px;}#sk-container-id-2 div.sk-estimator {font-family: monospace;background-color: #f0f8ff;border: 1px dotted black;border-radius: 0.25em;box-sizing: border-box;margin-bottom: 0.5em;}#sk-container-id-2 div.sk-estimator:hover {background-color: #d4ebff;}#sk-container-id-2 div.sk-parallel-item::after {content: \"\";width: 100%;border-bottom: 1px solid gray;flex-grow: 1;}#sk-container-id-2 div.sk-label:hover label.sk-toggleable__label {background-color: #d4ebff;}#sk-container-id-2 div.sk-serial::before {content: \"\";position: absolute;border-left: 1px solid gray;box-sizing: border-box;top: 0;bottom: 0;left: 50%;z-index: 0;}#sk-container-id-2 div.sk-serial {display: flex;flex-direction: column;align-items: center;background-color: white;padding-right: 0.2em;padding-left: 0.2em;position: relative;}#sk-container-id-2 div.sk-item {position: relative;z-index: 1;}#sk-container-id-2 div.sk-parallel {display: flex;align-items: stretch;justify-content: center;background-color: white;position: relative;}#sk-container-id-2 div.sk-item::before, #sk-container-id-2 div.sk-parallel-item::before {content: \"\";position: absolute;border-left: 1px solid gray;box-sizing: border-box;top: 0;bottom: 0;left: 50%;z-index: -1;}#sk-container-id-2 div.sk-parallel-item {display: flex;flex-direction: column;z-index: 1;position: relative;background-color: white;}#sk-container-id-2 div.sk-parallel-item:first-child::after {align-self: flex-end;width: 50%;}#sk-container-id-2 div.sk-parallel-item:last-child::after {align-self: flex-start;width: 50%;}#sk-container-id-2 div.sk-parallel-item:only-child::after {width: 0;}#sk-container-id-2 div.sk-dashed-wrapped {border: 1px dashed gray;margin: 0 0.4em 0.5em 0.4em;box-sizing: border-box;padding-bottom: 0.4em;background-color: white;}#sk-container-id-2 div.sk-label label {font-family: monospace;font-weight: bold;display: inline-block;line-height: 1.2em;}#sk-container-id-2 div.sk-label-container {text-align: center;}#sk-container-id-2 div.sk-container {/* jupyter's `normalize.less` sets `[hidden] { display: none; }` but bootstrap.min.css set `[hidden] { display: none !important; }` so we also need the `!important` here to be able to override the default hidden behavior on the sphinx rendered scikit-learn.org. See: https://github.com/scikit-learn/scikit-learn/issues/21755 */display: inline-block !important;position: relative;}#sk-container-id-2 div.sk-text-repr-fallback {display: none;}</style><div id=\"sk-container-id-2\" class=\"sk-top-container\"><div class=\"sk-text-repr-fallback\"><pre>DecisionTreeClassifier()</pre><b>In a Jupyter environment, please rerun this cell to show the HTML representation or trust the notebook. <br />On GitHub, the HTML representation is unable to render, please try loading this page with nbviewer.org.</b></div><div class=\"sk-container\" hidden><div class=\"sk-item\"><div class=\"sk-estimator sk-toggleable\"><input class=\"sk-toggleable__control sk-hidden--visually\" id=\"sk-estimator-id-2\" type=\"checkbox\" checked><label for=\"sk-estimator-id-2\" class=\"sk-toggleable__label sk-toggleable__label-arrow\">DecisionTreeClassifier</label><div class=\"sk-toggleable__content\"><pre>DecisionTreeClassifier()</pre></div></div></div></div></div>"
      ],
      "text/plain": [
       "DecisionTreeClassifier()"
      ]
     },
     "execution_count": 47,
     "metadata": {},
     "output_type": "execute_result"
    }
   ],
   "source": [
    "from sklearn.tree import DecisionTreeClassifier\n",
    "dec_tree = DecisionTreeClassifier()\n",
    "dec_tree.fit(train_X , train_y)"
   ]
  },
  {
   "cell_type": "code",
   "execution_count": 48,
   "metadata": {},
   "outputs": [],
   "source": [
    "from sklearn.model_selection import cross_val_predict\n",
    "tree_pred = cross_val_predict(dec_tree,train_X,train_y)\n",
    "tree_prob = cross_val_predict(dec_tree,train_X,train_y,method=\"predict_proba\")\n",
    "tree_score = tree_prob[:,1]"
   ]
  },
  {
   "cell_type": "code",
   "execution_count": 49,
   "metadata": {},
   "outputs": [],
   "source": [
    "from sklearn.metrics import precision_score , recall_score , confusion_matrix"
   ]
  },
  {
   "cell_type": "code",
   "execution_count": 50,
   "metadata": {},
   "outputs": [],
   "source": [
    "draw_cm(train_y,tree_pred)"
   ]
  },
  {
   "cell_type": "code",
   "execution_count": 51,
   "metadata": {},
   "outputs": [],
   "source": [
    "tree_fpr , tree_tpr , thrshold = metrics.roc_curve(train_y,tree_score)"
   ]
  },
  {
   "cell_type": "code",
   "execution_count": 52,
   "metadata": {},
   "outputs": [],
   "source": [
    "plot_roc_curve(tree_fpr,tree_tpr)"
   ]
  },
  {
   "cell_type": "code",
   "execution_count": 53,
   "metadata": {},
   "outputs": [
    {
     "data": {
      "text/plain": [
       "0.9877996711603135"
      ]
     },
     "execution_count": 53,
     "metadata": {},
     "output_type": "execute_result"
    }
   ],
   "source": [
    "metrics.roc_auc_score(train_y,tree_score)"
   ]
  },
  {
   "cell_type": "markdown",
   "metadata": {},
   "source": [
    "<h2>Construindo Modelo Florestal Aleatório</h2>"
   ]
  },
  {
   "cell_type": "code",
   "execution_count": 55,
   "metadata": {},
   "outputs": [],
   "source": [
    "from sklearn.ensemble import RandomForestClassifier\n",
    "random_clf = RandomForestClassifier(max_depth=25,n_estimators=40)"
   ]
  },
  {
   "cell_type": "code",
   "execution_count": 56,
   "metadata": {},
   "outputs": [
    {
     "data": {
      "text/html": [
       "<style>#sk-container-id-3 {color: black;}#sk-container-id-3 pre{padding: 0;}#sk-container-id-3 div.sk-toggleable {background-color: white;}#sk-container-id-3 label.sk-toggleable__label {cursor: pointer;display: block;width: 100%;margin-bottom: 0;padding: 0.3em;box-sizing: border-box;text-align: center;}#sk-container-id-3 label.sk-toggleable__label-arrow:before {content: \"▸\";float: left;margin-right: 0.25em;color: #696969;}#sk-container-id-3 label.sk-toggleable__label-arrow:hover:before {color: black;}#sk-container-id-3 div.sk-estimator:hover label.sk-toggleable__label-arrow:before {color: black;}#sk-container-id-3 div.sk-toggleable__content {max-height: 0;max-width: 0;overflow: hidden;text-align: left;background-color: #f0f8ff;}#sk-container-id-3 div.sk-toggleable__content pre {margin: 0.2em;color: black;border-radius: 0.25em;background-color: #f0f8ff;}#sk-container-id-3 input.sk-toggleable__control:checked~div.sk-toggleable__content {max-height: 200px;max-width: 100%;overflow: auto;}#sk-container-id-3 input.sk-toggleable__control:checked~label.sk-toggleable__label-arrow:before {content: \"▾\";}#sk-container-id-3 div.sk-estimator input.sk-toggleable__control:checked~label.sk-toggleable__label {background-color: #d4ebff;}#sk-container-id-3 div.sk-label input.sk-toggleable__control:checked~label.sk-toggleable__label {background-color: #d4ebff;}#sk-container-id-3 input.sk-hidden--visually {border: 0;clip: rect(1px 1px 1px 1px);clip: rect(1px, 1px, 1px, 1px);height: 1px;margin: -1px;overflow: hidden;padding: 0;position: absolute;width: 1px;}#sk-container-id-3 div.sk-estimator {font-family: monospace;background-color: #f0f8ff;border: 1px dotted black;border-radius: 0.25em;box-sizing: border-box;margin-bottom: 0.5em;}#sk-container-id-3 div.sk-estimator:hover {background-color: #d4ebff;}#sk-container-id-3 div.sk-parallel-item::after {content: \"\";width: 100%;border-bottom: 1px solid gray;flex-grow: 1;}#sk-container-id-3 div.sk-label:hover label.sk-toggleable__label {background-color: #d4ebff;}#sk-container-id-3 div.sk-serial::before {content: \"\";position: absolute;border-left: 1px solid gray;box-sizing: border-box;top: 0;bottom: 0;left: 50%;z-index: 0;}#sk-container-id-3 div.sk-serial {display: flex;flex-direction: column;align-items: center;background-color: white;padding-right: 0.2em;padding-left: 0.2em;position: relative;}#sk-container-id-3 div.sk-item {position: relative;z-index: 1;}#sk-container-id-3 div.sk-parallel {display: flex;align-items: stretch;justify-content: center;background-color: white;position: relative;}#sk-container-id-3 div.sk-item::before, #sk-container-id-3 div.sk-parallel-item::before {content: \"\";position: absolute;border-left: 1px solid gray;box-sizing: border-box;top: 0;bottom: 0;left: 50%;z-index: -1;}#sk-container-id-3 div.sk-parallel-item {display: flex;flex-direction: column;z-index: 1;position: relative;background-color: white;}#sk-container-id-3 div.sk-parallel-item:first-child::after {align-self: flex-end;width: 50%;}#sk-container-id-3 div.sk-parallel-item:last-child::after {align-self: flex-start;width: 50%;}#sk-container-id-3 div.sk-parallel-item:only-child::after {width: 0;}#sk-container-id-3 div.sk-dashed-wrapped {border: 1px dashed gray;margin: 0 0.4em 0.5em 0.4em;box-sizing: border-box;padding-bottom: 0.4em;background-color: white;}#sk-container-id-3 div.sk-label label {font-family: monospace;font-weight: bold;display: inline-block;line-height: 1.2em;}#sk-container-id-3 div.sk-label-container {text-align: center;}#sk-container-id-3 div.sk-container {/* jupyter's `normalize.less` sets `[hidden] { display: none; }` but bootstrap.min.css set `[hidden] { display: none !important; }` so we also need the `!important` here to be able to override the default hidden behavior on the sphinx rendered scikit-learn.org. See: https://github.com/scikit-learn/scikit-learn/issues/21755 */display: inline-block !important;position: relative;}#sk-container-id-3 div.sk-text-repr-fallback {display: none;}</style><div id=\"sk-container-id-3\" class=\"sk-top-container\"><div class=\"sk-text-repr-fallback\"><pre>RandomForestClassifier(max_depth=25, n_estimators=40)</pre><b>In a Jupyter environment, please rerun this cell to show the HTML representation or trust the notebook. <br />On GitHub, the HTML representation is unable to render, please try loading this page with nbviewer.org.</b></div><div class=\"sk-container\" hidden><div class=\"sk-item\"><div class=\"sk-estimator sk-toggleable\"><input class=\"sk-toggleable__control sk-hidden--visually\" id=\"sk-estimator-id-3\" type=\"checkbox\" checked><label for=\"sk-estimator-id-3\" class=\"sk-toggleable__label sk-toggleable__label-arrow\">RandomForestClassifier</label><div class=\"sk-toggleable__content\"><pre>RandomForestClassifier(max_depth=25, n_estimators=40)</pre></div></div></div></div></div>"
      ],
      "text/plain": [
       "RandomForestClassifier(max_depth=25, n_estimators=40)"
      ]
     },
     "execution_count": 56,
     "metadata": {},
     "output_type": "execute_result"
    }
   ],
   "source": [
    "random_clf.fit(train_X,train_y)"
   ]
  },
  {
   "cell_type": "code",
   "execution_count": 57,
   "metadata": {},
   "outputs": [],
   "source": [
    "from sklearn.model_selection import cross_val_predict,cross_val_score\n",
    "random_clf_pred = cross_val_predict(random_clf,train_X,train_y)\n",
    "random_clf_prob = cross_val_predict(random_clf,train_X,train_y,method=\"predict_proba\")\n",
    "random_clf_score = random_clf_prob[:,1]"
   ]
  },
  {
   "cell_type": "code",
   "execution_count": 58,
   "metadata": {},
   "outputs": [],
   "source": [
    "from sklearn.metrics import precision_score,recall_score,precision_recall_curve\n",
    "precision,recall,threshold = precision_recall_curve(train_y,random_clf_score)"
   ]
  },
  {
   "cell_type": "code",
   "execution_count": 59,
   "metadata": {},
   "outputs": [],
   "source": [
    "def precision_recall_curve_VS_threshold(Precision,recall,threshold):\n",
    "    plt.plot(threshold,precision[:-1],\"b--\",label=\"precision\")\n",
    "    plt.plot(threshold,recall[:-1],\"g--\",label=\"recall\")\n",
    "    plt.xlabel('Threshold')\n",
    "    plt.ylabel('Score')\n",
    "    plt.title('precision_recall_curve VS threshold')\n",
    "    plt.legend(loc='lower right') \n",
    "    plt.grid(True)\n",
    "    plt.figure(figsize=(8, 6))\n",
    "    plt.show()"
   ]
  },
  {
   "cell_type": "code",
   "execution_count": 60,
   "metadata": {},
   "outputs": [],
   "source": [
    "precision_recall_curve_VS_threshold(precision,recall,threshold)"
   ]
  },
  {
   "cell_type": "code",
   "execution_count": 61,
   "metadata": {},
   "outputs": [],
   "source": [
    "draw_cm(train_y,random_clf_pred)"
   ]
  },
  {
   "cell_type": "code",
   "execution_count": 63,
   "metadata": {},
   "outputs": [
    {
     "data": {
      "text/html": [
       "<div>\n",
       "<style scoped>\n",
       "    .dataframe tbody tr th:only-of-type {\n",
       "        vertical-align: middle;\n",
       "    }\n",
       "\n",
       "    .dataframe tbody tr th {\n",
       "        vertical-align: top;\n",
       "    }\n",
       "\n",
       "    .dataframe thead th {\n",
       "        text-align: right;\n",
       "    }\n",
       "</style>\n",
       "<table border=\"1\" class=\"dataframe\">\n",
       "  <thead>\n",
       "    <tr style=\"text-align: right;\">\n",
       "      <th></th>\n",
       "      <th>feature</th>\n",
       "      <th>importance</th>\n",
       "    </tr>\n",
       "  </thead>\n",
       "  <tbody>\n",
       "    <tr>\n",
       "      <th>4</th>\n",
       "      <td>Torque [Nm]</td>\n",
       "      <td>0.288669</td>\n",
       "    </tr>\n",
       "    <tr>\n",
       "      <th>3</th>\n",
       "      <td>Rotational speed [rpm]</td>\n",
       "      <td>0.251481</td>\n",
       "    </tr>\n",
       "    <tr>\n",
       "      <th>5</th>\n",
       "      <td>Tool wear [min]</td>\n",
       "      <td>0.173132</td>\n",
       "    </tr>\n",
       "    <tr>\n",
       "      <th>0</th>\n",
       "      <td>UDI</td>\n",
       "      <td>0.102962</td>\n",
       "    </tr>\n",
       "    <tr>\n",
       "      <th>1</th>\n",
       "      <td>Air temperature [K]</td>\n",
       "      <td>0.102318</td>\n",
       "    </tr>\n",
       "    <tr>\n",
       "      <th>2</th>\n",
       "      <td>Process temperature [K]</td>\n",
       "      <td>0.066675</td>\n",
       "    </tr>\n",
       "  </tbody>\n",
       "</table>\n",
       "</div>"
      ],
      "text/plain": [
       "                   feature  importance\n",
       "4              Torque [Nm]    0.288669\n",
       "3   Rotational speed [rpm]    0.251481\n",
       "5          Tool wear [min]    0.173132\n",
       "0                      UDI    0.102962\n",
       "1      Air temperature [K]    0.102318\n",
       "2  Process temperature [K]    0.066675"
      ]
     },
     "execution_count": 63,
     "metadata": {},
     "output_type": "execute_result"
    }
   ],
   "source": [
    "feature_rank = pd.DataFrame( { 'feature': encodeded_df.columns,'importance': random_clf.feature_importances_ } )\n",
    "feature_rank[feature_rank[\"importance\"]>0.01].sort_values('importance', ascending = False)\n",
    "# feature_rank.head(10)\n",
    "# feature_rank[feature_rank[\"importance\"]>0.05]\n",
    "# plt.figure(figsize=(18, 16))\n",
    "# sn.barplot( y = 'feature', x =features_ ,data = feature_rank );"
   ]
  },
  {
   "cell_type": "code",
   "execution_count": 64,
   "metadata": {},
   "outputs": [
    {
     "data": {
      "text/html": [
       "<div>\n",
       "<style scoped>\n",
       "    .dataframe tbody tr th:only-of-type {\n",
       "        vertical-align: middle;\n",
       "    }\n",
       "\n",
       "    .dataframe tbody tr th {\n",
       "        vertical-align: top;\n",
       "    }\n",
       "\n",
       "    .dataframe thead th {\n",
       "        text-align: right;\n",
       "    }\n",
       "</style>\n",
       "<table border=\"1\" class=\"dataframe\">\n",
       "  <thead>\n",
       "    <tr style=\"text-align: right;\">\n",
       "      <th></th>\n",
       "      <th>feature</th>\n",
       "      <th>importance</th>\n",
       "      <th>cumsum</th>\n",
       "    </tr>\n",
       "  </thead>\n",
       "  <tbody>\n",
       "    <tr>\n",
       "      <th>0</th>\n",
       "      <td>UDI</td>\n",
       "      <td>0.102962</td>\n",
       "      <td>10.296175</td>\n",
       "    </tr>\n",
       "    <tr>\n",
       "      <th>1</th>\n",
       "      <td>Air temperature [K]</td>\n",
       "      <td>0.102318</td>\n",
       "      <td>20.527977</td>\n",
       "    </tr>\n",
       "    <tr>\n",
       "      <th>2</th>\n",
       "      <td>Process temperature [K]</td>\n",
       "      <td>0.066675</td>\n",
       "      <td>27.195441</td>\n",
       "    </tr>\n",
       "    <tr>\n",
       "      <th>3</th>\n",
       "      <td>Rotational speed [rpm]</td>\n",
       "      <td>0.251481</td>\n",
       "      <td>52.343564</td>\n",
       "    </tr>\n",
       "    <tr>\n",
       "      <th>4</th>\n",
       "      <td>Torque [Nm]</td>\n",
       "      <td>0.288669</td>\n",
       "      <td>81.210496</td>\n",
       "    </tr>\n",
       "    <tr>\n",
       "      <th>5</th>\n",
       "      <td>Tool wear [min]</td>\n",
       "      <td>0.173132</td>\n",
       "      <td>98.523647</td>\n",
       "    </tr>\n",
       "    <tr>\n",
       "      <th>6</th>\n",
       "      <td>Type_L</td>\n",
       "      <td>0.007904</td>\n",
       "      <td>99.314095</td>\n",
       "    </tr>\n",
       "    <tr>\n",
       "      <th>7</th>\n",
       "      <td>Type_M</td>\n",
       "      <td>0.006859</td>\n",
       "      <td>100.000000</td>\n",
       "    </tr>\n",
       "  </tbody>\n",
       "</table>\n",
       "</div>"
      ],
      "text/plain": [
       "                   feature  importance      cumsum\n",
       "0                      UDI    0.102962   10.296175\n",
       "1      Air temperature [K]    0.102318   20.527977\n",
       "2  Process temperature [K]    0.066675   27.195441\n",
       "3   Rotational speed [rpm]    0.251481   52.343564\n",
       "4              Torque [Nm]    0.288669   81.210496\n",
       "5          Tool wear [min]    0.173132   98.523647\n",
       "6                   Type_L    0.007904   99.314095\n",
       "7                   Type_M    0.006859  100.000000"
      ]
     },
     "execution_count": 64,
     "metadata": {},
     "output_type": "execute_result"
    }
   ],
   "source": [
    "feature_rank['cumsum'] = feature_rank.importance.cumsum() * 100 \n",
    "feature_rank.iloc[: , :]"
   ]
  },
  {
   "cell_type": "code",
   "execution_count": 65,
   "metadata": {},
   "outputs": [
    {
     "data": {
      "text/html": [
       "<style>#sk-container-id-4 {color: black;}#sk-container-id-4 pre{padding: 0;}#sk-container-id-4 div.sk-toggleable {background-color: white;}#sk-container-id-4 label.sk-toggleable__label {cursor: pointer;display: block;width: 100%;margin-bottom: 0;padding: 0.3em;box-sizing: border-box;text-align: center;}#sk-container-id-4 label.sk-toggleable__label-arrow:before {content: \"▸\";float: left;margin-right: 0.25em;color: #696969;}#sk-container-id-4 label.sk-toggleable__label-arrow:hover:before {color: black;}#sk-container-id-4 div.sk-estimator:hover label.sk-toggleable__label-arrow:before {color: black;}#sk-container-id-4 div.sk-toggleable__content {max-height: 0;max-width: 0;overflow: hidden;text-align: left;background-color: #f0f8ff;}#sk-container-id-4 div.sk-toggleable__content pre {margin: 0.2em;color: black;border-radius: 0.25em;background-color: #f0f8ff;}#sk-container-id-4 input.sk-toggleable__control:checked~div.sk-toggleable__content {max-height: 200px;max-width: 100%;overflow: auto;}#sk-container-id-4 input.sk-toggleable__control:checked~label.sk-toggleable__label-arrow:before {content: \"▾\";}#sk-container-id-4 div.sk-estimator input.sk-toggleable__control:checked~label.sk-toggleable__label {background-color: #d4ebff;}#sk-container-id-4 div.sk-label input.sk-toggleable__control:checked~label.sk-toggleable__label {background-color: #d4ebff;}#sk-container-id-4 input.sk-hidden--visually {border: 0;clip: rect(1px 1px 1px 1px);clip: rect(1px, 1px, 1px, 1px);height: 1px;margin: -1px;overflow: hidden;padding: 0;position: absolute;width: 1px;}#sk-container-id-4 div.sk-estimator {font-family: monospace;background-color: #f0f8ff;border: 1px dotted black;border-radius: 0.25em;box-sizing: border-box;margin-bottom: 0.5em;}#sk-container-id-4 div.sk-estimator:hover {background-color: #d4ebff;}#sk-container-id-4 div.sk-parallel-item::after {content: \"\";width: 100%;border-bottom: 1px solid gray;flex-grow: 1;}#sk-container-id-4 div.sk-label:hover label.sk-toggleable__label {background-color: #d4ebff;}#sk-container-id-4 div.sk-serial::before {content: \"\";position: absolute;border-left: 1px solid gray;box-sizing: border-box;top: 0;bottom: 0;left: 50%;z-index: 0;}#sk-container-id-4 div.sk-serial {display: flex;flex-direction: column;align-items: center;background-color: white;padding-right: 0.2em;padding-left: 0.2em;position: relative;}#sk-container-id-4 div.sk-item {position: relative;z-index: 1;}#sk-container-id-4 div.sk-parallel {display: flex;align-items: stretch;justify-content: center;background-color: white;position: relative;}#sk-container-id-4 div.sk-item::before, #sk-container-id-4 div.sk-parallel-item::before {content: \"\";position: absolute;border-left: 1px solid gray;box-sizing: border-box;top: 0;bottom: 0;left: 50%;z-index: -1;}#sk-container-id-4 div.sk-parallel-item {display: flex;flex-direction: column;z-index: 1;position: relative;background-color: white;}#sk-container-id-4 div.sk-parallel-item:first-child::after {align-self: flex-end;width: 50%;}#sk-container-id-4 div.sk-parallel-item:last-child::after {align-self: flex-start;width: 50%;}#sk-container-id-4 div.sk-parallel-item:only-child::after {width: 0;}#sk-container-id-4 div.sk-dashed-wrapped {border: 1px dashed gray;margin: 0 0.4em 0.5em 0.4em;box-sizing: border-box;padding-bottom: 0.4em;background-color: white;}#sk-container-id-4 div.sk-label label {font-family: monospace;font-weight: bold;display: inline-block;line-height: 1.2em;}#sk-container-id-4 div.sk-label-container {text-align: center;}#sk-container-id-4 div.sk-container {/* jupyter's `normalize.less` sets `[hidden] { display: none; }` but bootstrap.min.css set `[hidden] { display: none !important; }` so we also need the `!important` here to be able to override the default hidden behavior on the sphinx rendered scikit-learn.org. See: https://github.com/scikit-learn/scikit-learn/issues/21755 */display: inline-block !important;position: relative;}#sk-container-id-4 div.sk-text-repr-fallback {display: none;}</style><div id=\"sk-container-id-4\" class=\"sk-top-container\"><div class=\"sk-text-repr-fallback\"><pre>GridSearchCV(cv=5,\n",
       "             estimator=RandomForestClassifier(max_depth=25, n_estimators=40),\n",
       "             param_grid=[{&#x27;max_depth&#x27;: [5, 10, 15, 20, 25, 30],\n",
       "                          &#x27;n_estimators&#x27;: [25, 30, 35, 40, 45, 50]}],\n",
       "             scoring=&#x27;roc_auc&#x27;)</pre><b>In a Jupyter environment, please rerun this cell to show the HTML representation or trust the notebook. <br />On GitHub, the HTML representation is unable to render, please try loading this page with nbviewer.org.</b></div><div class=\"sk-container\" hidden><div class=\"sk-item sk-dashed-wrapped\"><div class=\"sk-label-container\"><div class=\"sk-label sk-toggleable\"><input class=\"sk-toggleable__control sk-hidden--visually\" id=\"sk-estimator-id-4\" type=\"checkbox\" ><label for=\"sk-estimator-id-4\" class=\"sk-toggleable__label sk-toggleable__label-arrow\">GridSearchCV</label><div class=\"sk-toggleable__content\"><pre>GridSearchCV(cv=5,\n",
       "             estimator=RandomForestClassifier(max_depth=25, n_estimators=40),\n",
       "             param_grid=[{&#x27;max_depth&#x27;: [5, 10, 15, 20, 25, 30],\n",
       "                          &#x27;n_estimators&#x27;: [25, 30, 35, 40, 45, 50]}],\n",
       "             scoring=&#x27;roc_auc&#x27;)</pre></div></div></div><div class=\"sk-parallel\"><div class=\"sk-parallel-item\"><div class=\"sk-item\"><div class=\"sk-label-container\"><div class=\"sk-label sk-toggleable\"><input class=\"sk-toggleable__control sk-hidden--visually\" id=\"sk-estimator-id-5\" type=\"checkbox\" ><label for=\"sk-estimator-id-5\" class=\"sk-toggleable__label sk-toggleable__label-arrow\">estimator: RandomForestClassifier</label><div class=\"sk-toggleable__content\"><pre>RandomForestClassifier(max_depth=25, n_estimators=40)</pre></div></div></div><div class=\"sk-serial\"><div class=\"sk-item\"><div class=\"sk-estimator sk-toggleable\"><input class=\"sk-toggleable__control sk-hidden--visually\" id=\"sk-estimator-id-6\" type=\"checkbox\" ><label for=\"sk-estimator-id-6\" class=\"sk-toggleable__label sk-toggleable__label-arrow\">RandomForestClassifier</label><div class=\"sk-toggleable__content\"><pre>RandomForestClassifier(max_depth=25, n_estimators=40)</pre></div></div></div></div></div></div></div></div></div></div>"
      ],
      "text/plain": [
       "GridSearchCV(cv=5,\n",
       "             estimator=RandomForestClassifier(max_depth=25, n_estimators=40),\n",
       "             param_grid=[{'max_depth': [5, 10, 15, 20, 25, 30],\n",
       "                          'n_estimators': [25, 30, 35, 40, 45, 50]}],\n",
       "             scoring='roc_auc')"
      ]
     },
     "execution_count": 65,
     "metadata": {},
     "output_type": "execute_result"
    }
   ],
   "source": [
    "from sklearn.model_selection import GridSearchCV\n",
    "# Define a grade de hiperparâmetros para busca usando GridSearchCV.\n",
    "# Aqui, 'max_depth' representa a profundidade máxima de cada árvore,\n",
    "# e 'n_estimators' é o número total de árvores na floresta.\n",
    "tuned_parameters = [{'max_depth': [5,10, 15,20,25,30],'n_estimators': [25,30,35,40,45,50]}]\n",
    "## Configurando a pesquisa com os parâmetros ajustáveis\n",
    "clf = GridSearchCV(random_clf,tuned_parameters, cv=5, scoring='roc_auc')\n",
    "## Ajustando o conjunto de treinamento\n",
    "clf.fit(train_X, train_y)"
   ]
  },
  {
   "cell_type": "code",
   "execution_count": 66,
   "metadata": {},
   "outputs": [
    {
     "data": {
      "text/plain": [
       "0.9997042011155057"
      ]
     },
     "execution_count": 66,
     "metadata": {},
     "output_type": "execute_result"
    }
   ],
   "source": [
    "clf.best_score_"
   ]
  },
  {
   "cell_type": "code",
   "execution_count": 67,
   "metadata": {},
   "outputs": [
    {
     "data": {
      "text/plain": [
       "{'max_depth': 30, 'n_estimators': 45}"
      ]
     },
     "execution_count": 67,
     "metadata": {},
     "output_type": "execute_result"
    }
   ],
   "source": [
    "clf.best_params_"
   ]
  },
  {
   "cell_type": "code",
   "execution_count": null,
   "metadata": {},
   "outputs": [],
   "source": [
    "## Modelo de teste em dados de teste"
   ]
  },
  {
   "cell_type": "markdown",
   "metadata": {},
   "source": [
    "<h2>Testando</h2>"
   ]
  },
  {
   "cell_type": "markdown",
   "metadata": {},
   "source": [
    "Como estamos testando nosso modelo no conjunto de teste, não queremos ajustar o modelo ao conjunto de teste, então apenas usamos o método de previsão no melhor parâmetro e no melhor algoritmo\n",
    "<p>melhor algoritmo: floresta aleatória</p>"
   ]
  },
  {
   "cell_type": "code",
   "execution_count": 68,
   "metadata": {},
   "outputs": [],
   "source": [
    "pred = random_clf.predict(test_X)"
   ]
  },
  {
   "cell_type": "code",
   "execution_count": 69,
   "metadata": {},
   "outputs": [],
   "source": [
    "draw_cm(test_y,pred)"
   ]
  }
 ],
 "metadata": {
  "kernelspec": {
   "display_name": ".venv",
   "language": "python",
   "name": "python3"
  },
  "language_info": {
   "codemirror_mode": {
    "name": "ipython",
    "version": 3
   },
   "file_extension": ".py",
   "mimetype": "text/x-python",
   "name": "python",
   "nbconvert_exporter": "python",
   "pygments_lexer": "ipython3",
   "version": "3.11.6"
  }
 },
 "nbformat": 4,
 "nbformat_minor": 2
}
